{
 "cells": [
  {
   "cell_type": "code",
   "execution_count": 1,
   "metadata": {},
   "outputs": [],
   "source": [
    "import exchange_config_fr\n",
    "\n",
    "import sys\n",
    "sys.path.append('./kucoin/')\n",
    "\n",
    "from kucoin_exchange_client import KucoinClient"
   ]
  },
  {
   "cell_type": "code",
   "execution_count": 2,
   "metadata": {},
   "outputs": [],
   "source": [
    "client = KucoinClient(\n",
    "    exchange_config_fr.API_KEY,\n",
    "    exchange_config_fr.API_SECRET,\n",
    "    exchange_config_fr.PASSPHRASE,\n",
    ")"
   ]
  },
  {
   "cell_type": "code",
   "execution_count": 3,
   "metadata": {},
   "outputs": [
    {
     "name": "stdout",
     "output_type": "stream",
     "text": [
      "kucoin Insufficient balance.\n",
      "(None, None, None)\n"
     ]
    }
   ],
   "source": [
    "coin = 'BTC/USDT'\n",
    "side = 'buy'\n",
    "amount = 0.1\n",
    "leverage = 2\n",
    "take_profit_percentage = 1.1\n",
    "stop_loss_percentage = 0.95\n",
    "\n",
    "response = client.create_margin_order(\n",
    "    coin,\n",
    "    side,\n",
    "    amount,\n",
    "    leverage,\n",
    "    take_profit_percentage,\n",
    "    stop_loss_percentage\n",
    ")\n",
    "print(response)\n",
    "# TODO: kucoin Access denied, require more permission."
   ]
  },
  {
   "cell_type": "code",
   "execution_count": null,
   "metadata": {},
   "outputs": [],
   "source": [
    "# TODO: works ig, not sure if its doing cross / margin trade"
   ]
  }
 ],
 "metadata": {
  "kernelspec": {
   "display_name": "bitcoinbot",
   "language": "python",
   "name": "python3"
  },
  "language_info": {
   "codemirror_mode": {
    "name": "ipython",
    "version": 3
   },
   "file_extension": ".py",
   "mimetype": "text/x-python",
   "name": "python",
   "nbconvert_exporter": "python",
   "pygments_lexer": "ipython3",
   "version": "3.10.12"
  }
 },
 "nbformat": 4,
 "nbformat_minor": 2
}
